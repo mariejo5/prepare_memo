{
 "cells": [
  {
   "cell_type": "markdown",
   "id": "c004bde1",
   "metadata": {},
   "source": [
    "# PROJET FINAL MACHINE LEARNING"
   ]
  },
  {
   "cell_type": "markdown",
   "metadata": {},
   "source": [
    "## REPONSE AUX QUESTIONS"
   ]
  },
  {
   "cell_type": "markdown",
   "metadata": {},
   "source": [
    "**1-   Quelles sont les définitions de valeurs estimées et de valeurs prédites ?**"
   ]
  },
  {
   "cell_type": "markdown",
   "metadata": {},
   "source": [
    "-  Les valeurs estimées sont généralement des valeurs calculées à partir d'un modèle statistique qui a été ajusté aux données observées et qui sont souvent des résultats d'une estimation basée sur un ensemble de paramètres déterminés par le modèle.\n",
    "-   Les valeurs prédites sont des valeurs calculées par un modèle pour de nouvelles données, pour la plupart du temps distinctes de celles utilisées pour ajuster le modèle. Pour ce faire, on évalue généralement ses performances en utilisant un ensemble de données de test après avoir entraîné un modèle sur un ensemble de données d'apprentissage."
   ]
  },
  {
   "cell_type": "markdown",
   "metadata": {},
   "source": [
    "**2-  Pourquoi quand on compare des méthodes doit on comparer des méthodes optimales ?**"
   ]
  },
  {
   "cell_type": "markdown",
   "metadata": {},
   "source": [
    "La comparaison des méthodes optimales assure que chaque méthode est évaluée dans son meilleur contexte possible. Cela garantit une comparaison équitable où chaque méthode a la possibilité de montrer son meilleur rendement. C'est-à-dire qu'on aura des informations que la performance maximale que chaque méthode peut atteindre."
   ]
  },
  {
   "cell_type": "markdown",
   "metadata": {},
   "source": [
    "**3-    Démarche à suivre pour la réalisation de ce projet:**"
   ]
  },
  {
   "cell_type": "markdown",
   "metadata": {},
   "source": [
    "-   Importation du jeu de données\n",
    "-   Analyse exploratoire du jeu de données\n",
    "-   Nettoyage si necessaire du jeu de données afin qu'il soit optimisé à nos codes\n",
    "-   Sélection des différents algorithmes de machine learning\n",
    "-   Définition des grilles des différents paramètres associés aux algorithmes\n",
    "-   Faire une première validation croisée afin de trouver les paramètres optimaux de chaque modèle\n",
    "-   Faire une deuxième validation croisée pour maintenant mesurer la performance de chaque modèle\n",
    "-   Faire de la feature engineering pour mesurer la performance des modèles"
   ]
  },
  {
   "cell_type": "markdown",
   "metadata": {},
   "source": [
    "## REALISATION DU PROJET"
   ]
  },
  {
   "cell_type": "markdown",
   "id": "1f67f3ed",
   "metadata": {},
   "source": [
    "**IMPORTATION DES BIBLIOTHÈQUES**"
   ]
  },
  {
   "cell_type": "code",
   "execution_count": 1,
   "id": "740a43d0",
   "metadata": {},
   "outputs": [],
   "source": [
    "import pandas as pd\n",
    "import numpy as np\n",
    "from summarytools import dfSummary\n",
    "from sklearn.preprocessing import StandardScaler\n",
    "from sklearn.model_selection import train_test_split, GridSearchCV, KFold, cross_val_score\n",
    "from sklearn.metrics import mean_squared_error, r2_score, f1_score, accuracy_score\n",
    "from sklearn.linear_model import LogisticRegression\n",
    "from sklearn.ensemble import BaggingClassifier, RandomForestClassifier, GradientBoostingClassifier, AdaBoostClassifier\n",
    "from sklearn.tree import DecisionTreeClassifier\n",
    "from xgboost import XGBClassifier\n",
    "from sklearn.svm import SVC\n",
    "from sklearn.neighbors import KNeighborsClassifier\n",
    "import matplotlib.pyplot as plt"
   ]
  },
  {
   "cell_type": "markdown",
   "id": "391aeb17",
   "metadata": {},
   "source": [
    "**IMPORTATION DE NOS DONNEES**"
   ]
  },
  {
   "cell_type": "code",
   "execution_count": 2,
   "id": "844c2020",
   "metadata": {},
   "outputs": [
    {
     "data": {
      "text/html": [
       "<div>\n",
       "<style scoped>\n",
       "    .dataframe tbody tr th:only-of-type {\n",
       "        vertical-align: middle;\n",
       "    }\n",
       "\n",
       "    .dataframe tbody tr th {\n",
       "        vertical-align: top;\n",
       "    }\n",
       "\n",
       "    .dataframe thead th {\n",
       "        text-align: right;\n",
       "    }\n",
       "</style>\n",
       "<table border=\"1\" class=\"dataframe\">\n",
       "  <thead>\n",
       "    <tr style=\"text-align: right;\">\n",
       "      <th></th>\n",
       "      <th>fixed.acidity</th>\n",
       "      <th>volatile.acidity</th>\n",
       "      <th>citric.acid</th>\n",
       "      <th>residual.sugar</th>\n",
       "      <th>chlorides</th>\n",
       "      <th>free.sulfur.dioxide</th>\n",
       "      <th>total.sulfur.dioxide</th>\n",
       "      <th>density</th>\n",
       "      <th>pH</th>\n",
       "      <th>sulphates</th>\n",
       "      <th>alcohol</th>\n",
       "      <th>quality</th>\n",
       "    </tr>\n",
       "  </thead>\n",
       "  <tbody>\n",
       "    <tr>\n",
       "      <th>0</th>\n",
       "      <td>7.4</td>\n",
       "      <td>0.70</td>\n",
       "      <td>0.00</td>\n",
       "      <td>1.9</td>\n",
       "      <td>0.076</td>\n",
       "      <td>11.0</td>\n",
       "      <td>34.0</td>\n",
       "      <td>0.9978</td>\n",
       "      <td>3.51</td>\n",
       "      <td>0.56</td>\n",
       "      <td>9.4</td>\n",
       "      <td>mauvais</td>\n",
       "    </tr>\n",
       "    <tr>\n",
       "      <th>1</th>\n",
       "      <td>7.8</td>\n",
       "      <td>0.88</td>\n",
       "      <td>0.00</td>\n",
       "      <td>2.6</td>\n",
       "      <td>0.098</td>\n",
       "      <td>25.0</td>\n",
       "      <td>67.0</td>\n",
       "      <td>0.9968</td>\n",
       "      <td>3.20</td>\n",
       "      <td>0.68</td>\n",
       "      <td>9.8</td>\n",
       "      <td>mauvais</td>\n",
       "    </tr>\n",
       "    <tr>\n",
       "      <th>2</th>\n",
       "      <td>7.8</td>\n",
       "      <td>0.76</td>\n",
       "      <td>0.04</td>\n",
       "      <td>2.3</td>\n",
       "      <td>0.092</td>\n",
       "      <td>15.0</td>\n",
       "      <td>54.0</td>\n",
       "      <td>0.9970</td>\n",
       "      <td>3.26</td>\n",
       "      <td>0.65</td>\n",
       "      <td>9.8</td>\n",
       "      <td>mauvais</td>\n",
       "    </tr>\n",
       "    <tr>\n",
       "      <th>3</th>\n",
       "      <td>11.2</td>\n",
       "      <td>0.28</td>\n",
       "      <td>0.56</td>\n",
       "      <td>1.9</td>\n",
       "      <td>0.075</td>\n",
       "      <td>17.0</td>\n",
       "      <td>60.0</td>\n",
       "      <td>0.9980</td>\n",
       "      <td>3.16</td>\n",
       "      <td>0.58</td>\n",
       "      <td>9.8</td>\n",
       "      <td>bon</td>\n",
       "    </tr>\n",
       "    <tr>\n",
       "      <th>4</th>\n",
       "      <td>7.4</td>\n",
       "      <td>0.70</td>\n",
       "      <td>0.00</td>\n",
       "      <td>1.9</td>\n",
       "      <td>0.076</td>\n",
       "      <td>11.0</td>\n",
       "      <td>34.0</td>\n",
       "      <td>0.9978</td>\n",
       "      <td>3.51</td>\n",
       "      <td>0.56</td>\n",
       "      <td>9.4</td>\n",
       "      <td>mauvais</td>\n",
       "    </tr>\n",
       "  </tbody>\n",
       "</table>\n",
       "</div>"
      ],
      "text/plain": [
       "   fixed.acidity  volatile.acidity  citric.acid  residual.sugar  chlorides  \\\n",
       "0            7.4              0.70         0.00             1.9      0.076   \n",
       "1            7.8              0.88         0.00             2.6      0.098   \n",
       "2            7.8              0.76         0.04             2.3      0.092   \n",
       "3           11.2              0.28         0.56             1.9      0.075   \n",
       "4            7.4              0.70         0.00             1.9      0.076   \n",
       "\n",
       "   free.sulfur.dioxide  total.sulfur.dioxide  density    pH  sulphates  \\\n",
       "0                 11.0                  34.0   0.9978  3.51       0.56   \n",
       "1                 25.0                  67.0   0.9968  3.20       0.68   \n",
       "2                 15.0                  54.0   0.9970  3.26       0.65   \n",
       "3                 17.0                  60.0   0.9980  3.16       0.58   \n",
       "4                 11.0                  34.0   0.9978  3.51       0.56   \n",
       "\n",
       "   alcohol  quality  \n",
       "0      9.4  mauvais  \n",
       "1      9.8  mauvais  \n",
       "2      9.8  mauvais  \n",
       "3      9.8      bon  \n",
       "4      9.4  mauvais  "
      ]
     },
     "execution_count": 2,
     "metadata": {},
     "output_type": "execute_result"
    }
   ],
   "source": [
    "df = pd.read_csv('vin.csv', sep=',')\n",
    "df.head()"
   ]
  },
  {
   "cell_type": "markdown",
   "id": "fb8fd60a",
   "metadata": {},
   "source": [
    "**ANALYSE ET NETTOYAGE DES DONNEES**"
   ]
  },
  {
   "cell_type": "code",
   "execution_count": 3,
   "id": "1ae39d55",
   "metadata": {},
   "outputs": [
    {
     "data": {
      "text/html": [
       "<style type=\"text/css\">\n",
       "#T_dbc77 thead>tr>th {\n",
       "  text-align: left;\n",
       "}\n",
       "#T_dbc77_row0_col0, #T_dbc77_row1_col0, #T_dbc77_row2_col0, #T_dbc77_row3_col0, #T_dbc77_row4_col0, #T_dbc77_row5_col0, #T_dbc77_row6_col0, #T_dbc77_row7_col0, #T_dbc77_row8_col0, #T_dbc77_row9_col0, #T_dbc77_row10_col0, #T_dbc77_row11_col0 {\n",
       "  text-align: left;\n",
       "  font-size: 12px;\n",
       "  vertical-align: middle;\n",
       "  width: 5%;\n",
       "  max-width: 50px;\n",
       "  min-width: 20px;\n",
       "}\n",
       "#T_dbc77_row0_col1, #T_dbc77_row1_col1, #T_dbc77_row2_col1, #T_dbc77_row3_col1, #T_dbc77_row4_col1, #T_dbc77_row5_col1, #T_dbc77_row6_col1, #T_dbc77_row7_col1, #T_dbc77_row8_col1, #T_dbc77_row9_col1, #T_dbc77_row10_col1, #T_dbc77_row11_col1 {\n",
       "  text-align: left;\n",
       "  font-size: 12px;\n",
       "  vertical-align: middle;\n",
       "  width: 15%;\n",
       "  max-width: 200px;\n",
       "  min-width: 100px;\n",
       "  word-break: break-word;\n",
       "}\n",
       "#T_dbc77_row0_col2, #T_dbc77_row1_col2, #T_dbc77_row2_col2, #T_dbc77_row3_col2, #T_dbc77_row4_col2, #T_dbc77_row5_col2, #T_dbc77_row6_col2, #T_dbc77_row7_col2, #T_dbc77_row8_col2, #T_dbc77_row9_col2, #T_dbc77_row10_col2, #T_dbc77_row11_col2 {\n",
       "  text-align: left;\n",
       "  font-size: 12px;\n",
       "  vertical-align: middle;\n",
       "  width: 30%;\n",
       "  min-width: 100px;\n",
       "}\n",
       "#T_dbc77_row0_col3, #T_dbc77_row1_col3, #T_dbc77_row2_col3, #T_dbc77_row3_col3, #T_dbc77_row4_col3, #T_dbc77_row5_col3, #T_dbc77_row6_col3, #T_dbc77_row7_col3, #T_dbc77_row8_col3, #T_dbc77_row9_col3, #T_dbc77_row10_col3, #T_dbc77_row11_col3 {\n",
       "  text-align: left;\n",
       "  font-size: 12px;\n",
       "  vertical-align: middle;\n",
       "  width: 25%;\n",
       "  min-width: 100px;\n",
       "}\n",
       "#T_dbc77_row0_col4, #T_dbc77_row1_col4, #T_dbc77_row2_col4, #T_dbc77_row3_col4, #T_dbc77_row4_col4, #T_dbc77_row5_col4, #T_dbc77_row6_col4, #T_dbc77_row7_col4, #T_dbc77_row8_col4, #T_dbc77_row9_col4, #T_dbc77_row10_col4, #T_dbc77_row11_col4 {\n",
       "  text-align: left;\n",
       "  font-size: 12px;\n",
       "  vertical-align: middle;\n",
       "  width: 20%;\n",
       "  min-width: 150px;\n",
       "}\n",
       "#T_dbc77_row0_col5, #T_dbc77_row1_col5, #T_dbc77_row2_col5, #T_dbc77_row3_col5, #T_dbc77_row4_col5, #T_dbc77_row5_col5, #T_dbc77_row6_col5, #T_dbc77_row7_col5, #T_dbc77_row8_col5, #T_dbc77_row9_col5, #T_dbc77_row10_col5, #T_dbc77_row11_col5 {\n",
       "  text-align: left;\n",
       "  font-size: 12px;\n",
       "  vertical-align: middle;\n",
       "  width: 10%;\n",
       "}\n",
       "</style>\n",
       "<table id=\"T_dbc77\">\n",
       "  <caption><strong>Data Frame Summary</strong><br>df<br>Dimensions: 1,599 x 12<br>Duplicates: 240</caption>\n",
       "  <thead>\n",
       "    <tr>\n",
       "      <th id=\"T_dbc77_level0_col0\" class=\"col_heading level0 col0\" >No</th>\n",
       "      <th id=\"T_dbc77_level0_col1\" class=\"col_heading level0 col1\" >Variable</th>\n",
       "      <th id=\"T_dbc77_level0_col2\" class=\"col_heading level0 col2\" >Stats / Values</th>\n",
       "      <th id=\"T_dbc77_level0_col3\" class=\"col_heading level0 col3\" >Freqs / (% of Valid)</th>\n",
       "      <th id=\"T_dbc77_level0_col4\" class=\"col_heading level0 col4\" >Graph</th>\n",
       "      <th id=\"T_dbc77_level0_col5\" class=\"col_heading level0 col5\" >Missing</th>\n",
       "    </tr>\n",
       "  </thead>\n",
       "  <tbody>\n",
       "    <tr>\n",
       "      <td id=\"T_dbc77_row0_col0\" class=\"data row0 col0\" >1</td>\n",
       "      <td id=\"T_dbc77_row0_col1\" class=\"data row0 col1\" ><strong>fixed.acidity</strong><br>[float64]</td>\n",
       "      <td id=\"T_dbc77_row0_col2\" class=\"data row0 col2\" >Mean (sd) : 8.3 (1.7)<br>min < med < max:<br>4.6 < 7.9 < 15.9<br>IQR (CV) : 2.1 (4.8)</td>\n",
       "      <td id=\"T_dbc77_row0_col3\" class=\"data row0 col3\" >96 distinct values</td>\n",
       "      <td id=\"T_dbc77_row0_col4\" class=\"data row0 col4\" ><img src = \"data:image/png;base64, iVBORw0KGgoAAAANSUhEUgAAAKoAAABGCAYAAABc8A97AAAAOXRFWHRTb2Z0d2FyZQBNYXRwbG90bGliIHZlcnNpb24zLjcuMSwgaHR0cHM6Ly9tYXRwbG90bGliLm9yZy/bCgiHAAAACXBIWXMAAA9hAAAPYQGoP6dpAAACnUlEQVR4nO3du47aQBSA4TOwIHORLUQEHU3KSCkoeYg8bB4hSDwBbSo6JAsZ4WBhjFNtmrBcxuNljvV//SxT/LJ2ZB+NKctSAN+1Xr0B4BFvr97ALcaYnoh0LZefyrI8utwPXsfbUI0xvfF4/CMMw5HN+v1+vzPG/CTWZvA2VBHphmE4WiwWxyiKsmcWJkkSrFarURzHXREh1AbwOVQREYmiKJtMJn8slvacbwYvw2EKKhAqVCBUqECoUIFQoQKhQgVChQqEChUIFSoQKlQgVKhAqFCBUKECoUIFQoUKhAoVCBUqeP+Fv62iKDoiEhpjbP8Ew4EeaWSoaZp28jz/PpvN2u12+6l5q3cMB/qlkaGeTqe3IAj68/k8m06nu2fXMxzon0aG+m4wGNgOBoowHOgVDlNQgVChAqFCBUKFCoQKFQgVKhAqVCBUqECoUIFQoQKhQgVChQqEChUIFSrU+plfxet3wsvl0nG5H+hVW6hVr9/J8zwoiuJblmW/RMT2m1I0RJ1PVOvrd0RENpvNaL1e98/nc7uOzUGX2r/wt71+Z7fb8YU9/uEwBRUaPTNVRcVxa0atHSPUK6qOWzNq7R6hXlFl3JpR63oQ6g0Vxq05CDrGYQoqECpUIFSoQKhQgVChAqf+GvCywD1CdYyXBfUgVMd4WVAPQq0JLwvc4jAFFXiieoZLMq4jVI9wScbHCNUjXJLxsbuhVpgkZYrUEpdk/O9mqFUmSZkihUv3nqjWk6RMkcKlh/5HtZkkZYr0NZr6+pbDVIM0+fUtoTZI1de3y+VyEsfxF2PM3nILLRG5WK69+TR/KNQkSYJnf/VwOAQiImmaBtvttv+Z67X+tqt92zgej5WexkVRdNI0/TocDn+3Wq382fX3nuZ/AbiTgEtJ+TsoAAAAAElFTkSuQmCC\"></img></td>\n",
       "      <td id=\"T_dbc77_row0_col5\" class=\"data row0 col5\" >0<br>(0.0%)</td>\n",
       "    </tr>\n",
       "    <tr>\n",
       "      <td id=\"T_dbc77_row1_col0\" class=\"data row1 col0\" >2</td>\n",
       "      <td id=\"T_dbc77_row1_col1\" class=\"data row1 col1\" ><strong>volatile.acidity</strong><br>[float64]</td>\n",
       "      <td id=\"T_dbc77_row1_col2\" class=\"data row1 col2\" >Mean (sd) : 0.5 (0.2)<br>min < med < max:<br>0.1 < 0.5 < 1.6<br>IQR (CV) : 0.2 (2.9)</td>\n",
       "      <td id=\"T_dbc77_row1_col3\" class=\"data row1 col3\" >143 distinct values</td>\n",
       "      <td id=\"T_dbc77_row1_col4\" class=\"data row1 col4\" ><img src = \"data:image/png;base64, iVBORw0KGgoAAAANSUhEUgAAAKoAAABGCAYAAABc8A97AAAAOXRFWHRTb2Z0d2FyZQBNYXRwbG90bGliIHZlcnNpb24zLjcuMSwgaHR0cHM6Ly9tYXRwbG90bGliLm9yZy/bCgiHAAAACXBIWXMAAA9hAAAPYQGoP6dpAAACiUlEQVR4nO3dTY6iQBiA4a/GP/wJxJjozgtMMguXHGIOO0dw4Qm8gTsTQzAyzYjArJx0Mj3dQhUjH/0++0IWb+iiinSZsiwFaLsvz74B4BH9Z99AU4wxYxEZWlziWpbli6v7gZ1OhmqMGS8Wi+++78/rXuN8PkfGmB/E2g6dDFVEhr7vz8MwfAmCIK06OI5jb7fbzU+n01BECLUFuhqqiIgEQZAul8ufNYePnd4MrPAyBRUIFSoQKlQgVKjQ6pcpi7VQvyiKgev7wfO0NlSbtdAsy7w8z7+maboVkbpv/WiRRkO13B3yZ7PZMgzDc9W10MPhMN/v95Pb7dar+dtomcZCtd0duj8VR6PRtupaaBRFrIF2TJNPVKvdIZ6KeK3xOWrd3SGeiniN5SmoQKhQgVChAqFCBUKFCoQKFQgVKhAqVCBUqECoUIFQoQKhQgVChQqEChUIFSoQKlQgVKhAqFCBUKECoUIFQoUKhAoVCBUqECpUIFSoQKhQgVChAqFCBUKFCoQKFQgVKhAqVGjtYRPPluf5QER8Y0yd4ZxM7RihviFJkkGWZd/W63Wv1+tV/rfunEztHqG+4Xq99j3Pm2w2m3S1WkVVxnIydTMI9R3T6bTu6dScP+AYL1NQgVChAqFCBUKFCoQKFQgVKhAqVPhwHdXiKHO/KIpBjXHAX94N1eYo8/sx5mmabkWkzqI58MdHT9TaR5lzjDlcemgLtc5R5p/5GHO+vHKPvX7H+PKqGYTqGF9eNYNQG8KXV24RastYzm9FOjrHJdQWsZ3finR3jkuoLWIzvxXp9hz3oVDjOPaqXvhyuXgiIkmSeMfjcfI/x2v97ftYG3me98Vu6vAsv8qy/Odfkd+3nScJ/aVy7AAAAABJRU5ErkJggg==\"></img></td>\n",
       "      <td id=\"T_dbc77_row1_col5\" class=\"data row1 col5\" >0<br>(0.0%)</td>\n",
       "    </tr>\n",
       "    <tr>\n",
       "      <td id=\"T_dbc77_row2_col0\" class=\"data row2 col0\" >3</td>\n",
       "      <td id=\"T_dbc77_row2_col1\" class=\"data row2 col1\" ><strong>citric.acid</strong><br>[float64]</td>\n",
       "      <td id=\"T_dbc77_row2_col2\" class=\"data row2 col2\" >Mean (sd) : 0.3 (0.2)<br>min < med < max:<br>0.0 < 0.3 < 1.0<br>IQR (CV) : 0.3 (1.4)</td>\n",
       "      <td id=\"T_dbc77_row2_col3\" class=\"data row2 col3\" >80 distinct values</td>\n",
       "      <td id=\"T_dbc77_row2_col4\" class=\"data row2 col4\" ><img src = \"data:image/png;base64, iVBORw0KGgoAAAANSUhEUgAAAKoAAABGCAYAAABc8A97AAAAOXRFWHRTb2Z0d2FyZQBNYXRwbG90bGliIHZlcnNpb24zLjcuMSwgaHR0cHM6Ly9tYXRwbG90bGliLm9yZy/bCgiHAAAACXBIWXMAAA9hAAAPYQGoP6dpAAACgUlEQVR4nO3cMY7aQBSA4TdhIQNENogEOlqKSCkoOUQOmyOkoKXhBnRIBhnh4MUYp4gSrRR2wTZe5ln/V+/YFD+7GvvNmizLBHDdh0d/AOAWT9d+wBjTFpFWwesfsyw7FFwL/PNmqMaY9mAw+O55Xr/IxXe73dYY84NYUda136gtz/P6s9ns4Pt+nOfCYRja+XzeD4KgJSKEilKu/ukXEfF9Px4Oh78KXL9dYA3wHzZTUIFQoQKhQgVChQqEChUIFSoQKlQgVKhAqFCBUKECoUKFm971PwojhvjL2VAZMcRLzoYqjBjiBZdDFRFGDPEHmymoQKhQgVChAqFCBUKFCs7v+h+Flw1uIdQLeNngHkK9jJcNjiHUN/CywR1spqACoUIFQoUKhAoVCBUqVLrrT9O0KSKeMabIcu98Pjc13hv3V1moURQ1kyT5Nh6PG41GI9ezSBGRJElsmqZf4zj+KSK5HhE98t6oRmWhHo/HJ2ttZzqdxqPRaJt3/Wq16i+Xy87pdGpoujeqUfkD/263W+ih+Xa7Lf3Q/JH3xn2xmYIKhAoVCBUqECpUIFSoQKhQgVChAqFCBSb8K1ByzoCDgRcQ6p2VnTPgYOBlhHpnZeYMOBj4OkKtSNE5A+Fg4EVspqACoUIFQoUKhAoVCBUqECpUIFSoQKhQgQf+jik5JyBS01kBQnVI2TkBkfrOChCqQ8r+P4I6zwoQqoNKzAmI1HRWgM0UVCBUqECoUIFQoQKbqZqp63ktQq2ROp/XuinUMAxt3gvv93srIhJFkV2v1533XK/13mU/92az+WSt7UwmE9Pr9Z7zrD0cDh8Xi8WXIAg+G2N2ee99B89Zlr365foNRqpjgXEhTmwAAAAASUVORK5CYII=\"></img></td>\n",
       "      <td id=\"T_dbc77_row2_col5\" class=\"data row2 col5\" >0<br>(0.0%)</td>\n",
       "    </tr>\n",
       "    <tr>\n",
       "      <td id=\"T_dbc77_row3_col0\" class=\"data row3 col0\" >4</td>\n",
       "      <td id=\"T_dbc77_row3_col1\" class=\"data row3 col1\" ><strong>residual.sugar</strong><br>[float64]</td>\n",
       "      <td id=\"T_dbc77_row3_col2\" class=\"data row3 col2\" >Mean (sd) : 2.5 (1.4)<br>min < med < max:<br>0.9 < 2.2 < 15.5<br>IQR (CV) : 0.7 (1.8)</td>\n",
       "      <td id=\"T_dbc77_row3_col3\" class=\"data row3 col3\" >91 distinct values</td>\n",
       "      <td id=\"T_dbc77_row3_col4\" class=\"data row3 col4\" ><img src = \"data:image/png;base64, iVBORw0KGgoAAAANSUhEUgAAAKoAAABGCAYAAABc8A97AAAAOXRFWHRTb2Z0d2FyZQBNYXRwbG90bGliIHZlcnNpb24zLjcuMSwgaHR0cHM6Ly9tYXRwbG90bGliLm9yZy/bCgiHAAAACXBIWXMAAA9hAAAPYQGoP6dpAAACOUlEQVR4nO3dvY7aQBSG4TOwILMQW4gVdG7Sp6CkyR3kYtOmRIKrSI+QLGOEYwJynCIhipQf8HhJ/K3ep2YGkF7ZpuCMq6rKgLbr/O8PANzi4doLnHMDM+t77n+qqqrwXAv88NdQnXODyWTyLgzDsc/m+/0+dc69J1Y0de2K2g/DcLxYLIooio51Ns6yLFitVuMkSfpmRqho5Oqt38wsiqLjdDr95LH/wGMN8At+TEECoUICoUICoUICoUICoUICoUICoUICoUICoUICoUICoUICoUICoUICoUICoUICoUICoUICoUICoUICoUICoUICoUICoUICoUICoUICoUICoUICoUICoUICoUICoULCTYN8fZVl2TOz0DnnuwVnAMDM7hhqnue98/n8Jo7jbrfbrTVW/YIzAHBxt1BPp9NDEASP8/n8OJvN0rrrOQMAP7vrrd/MbDgc+s7/N+MMAHzHjylIIFRIIFRIIFRIIFRIIFRIIFRIIFRIIFRIIFRIIFRIIFRIIFRIIFRIIFRIIFRIIFRIIFRIIFRIIFRIIFRIIFRIIFRIuPv/+ptoOBKIcUAvSGtDbToSaLfbHZxzH8zMa5yQEXqrtDbUJiOBNpvNq/V6/TaO4yfmXr0MrQ31wmckUJqmg6Zzr5bL5TRJkifn3L7uevv27P/FY50ZV/LfuinULMuCuhsfDofAzCzP82C73T7+y/WXtb6KovB+7CjLspfn+evRaPSx0+mc6773MzyyqPpcVdUfv/NXTTq/1f6MAmcAAAAASUVORK5CYII=\"></img></td>\n",
       "      <td id=\"T_dbc77_row3_col5\" class=\"data row3 col5\" >0<br>(0.0%)</td>\n",
       "    </tr>\n",
       "    <tr>\n",
       "      <td id=\"T_dbc77_row4_col0\" class=\"data row4 col0\" >5</td>\n",
       "      <td id=\"T_dbc77_row4_col1\" class=\"data row4 col1\" ><strong>chlorides</strong><br>[float64]</td>\n",
       "      <td id=\"T_dbc77_row4_col2\" class=\"data row4 col2\" >Mean (sd) : 0.1 (0.0)<br>min < med < max:<br>0.0 < 0.1 < 0.6<br>IQR (CV) : 0.0 (1.9)</td>\n",
       "      <td id=\"T_dbc77_row4_col3\" class=\"data row4 col3\" >153 distinct values</td>\n",
       "      <td id=\"T_dbc77_row4_col4\" class=\"data row4 col4\" ><img src = \"data:image/png;base64, iVBORw0KGgoAAAANSUhEUgAAAKoAAABGCAYAAABc8A97AAAAOXRFWHRTb2Z0d2FyZQBNYXRwbG90bGliIHZlcnNpb24zLjcuMSwgaHR0cHM6Ly9tYXRwbG90bGliLm9yZy/bCgiHAAAACXBIWXMAAA9hAAAPYQGoP6dpAAACSUlEQVR4nO3dvY7aQBSG4TMQkEGWzc+K0k0Kiki5AJpUaXOxadOloEeiTUWHBNgIB3aNmRTZLkoWGxD7Zd+nP8MUr225wOO89wa8do17bwA4x7tbLu6c65hZ+4Ilnrz3+2vtB7puFqpzrjMcDr9EUdSvu8Z2u904574SK255R21HUdSfTCb7OI4PVYezLAum02l/tVq1zYxQ37ibPvrNzOI4PoxGo581xztX3Qxk8TIFCYQKCYQKCYQKCYQKCYQKCYQKCYQKCYQKCYQKCYQKCYQKCYQKCYQKCYQKCYQKCYQKCYQKCYQKCYQKCYQKCYQKCYQKCYQKCYQKCYQKCYQKCYQKCYQKCYQKCYQKCYQKCYQKCYQKCS9+Gv2Ck02i0+nUqjEH/OGfoV5ysklRFEFZlh8Oh8N3M6v7DX/AzF6+o9Y+2WSxWPTn83n3eDw2L9gfYGZnnopS52STzWbDiSa4Gl6mIIFQIYFQIYFQIYFQIYFQIYFQIYFQIYFQIYFQIYFQIYFQIYFQIYFQIYFQIYFQIYFQIYFQIYFQIYFQIYFQIYFQIYFQIeGs//XfS1mWLTOLnHN1xp+89/srbwl38mpDzfO8VRTFxyRJms1ms9JXWszM0jTdOee+mVnl2We1Q7/ge11mv59yp5qzZv/pBXpWqFmWBVUX3u12gZlZnufBcrnsVp1fr9dhEATd8Xjser3eY5XZNE3D2Wz2KUmShzqRP69RN/RgMBh8juM4rPqbZVm28jx/H4bhj0ajUVSdN7vKBXovj977v+75F3t8js/8e4OhAAAAAElFTkSuQmCC\"></img></td>\n",
       "      <td id=\"T_dbc77_row4_col5\" class=\"data row4 col5\" >0<br>(0.0%)</td>\n",
       "    </tr>\n",
       "    <tr>\n",
       "      <td id=\"T_dbc77_row5_col0\" class=\"data row5 col0\" >6</td>\n",
       "      <td id=\"T_dbc77_row5_col1\" class=\"data row5 col1\" ><strong>free.sulfur.dioxide</strong><br>[float64]</td>\n",
       "      <td id=\"T_dbc77_row5_col2\" class=\"data row5 col2\" >Mean (sd) : 15.9 (10.5)<br>min < med < max:<br>1.0 < 14.0 < 72.0<br>IQR (CV) : 14.0 (1.5)</td>\n",
       "      <td id=\"T_dbc77_row5_col3\" class=\"data row5 col3\" >60 distinct values</td>\n",
       "      <td id=\"T_dbc77_row5_col4\" class=\"data row5 col4\" ><img src = \"data:image/png;base64, iVBORw0KGgoAAAANSUhEUgAAAKoAAABGCAYAAABc8A97AAAAOXRFWHRTb2Z0d2FyZQBNYXRwbG90bGliIHZlcnNpb24zLjcuMSwgaHR0cHM6Ly9tYXRwbG90bGliLm9yZy/bCgiHAAAACXBIWXMAAA9hAAAPYQGoP6dpAAACoUlEQVR4nO3dPZPSQBjA8WfhwPBiEuAOujQWdBaUNFa2flhbeyj5BBR2DEOAMEQQBmPjORY3B3lB94n/X32bpPhzl5DdPZMkiQC2q/zrCwBu8XDtB4wxDRGpZzz+KUmSQ8axwG+vhmqMafR6vU+u63ayHHy73e6NMV9E5Jjp6ggdv1z7jVp3XbczHo8Pnuelim2xWLydTqcfgiB4rFarmULd7XYbY8xnYsXVP/0iIp7nHfv9/rc0B95sNg3HcZqj0eg4GAw2aS8siiJnMpl0wjCsiwih/uduCjWPVquVOvI/NAq9GKjFUz9UIFSoQKhQgVChAqFCBUKFCoQKFQgVKhAqVCBUqECoUIFQoQKhQgVChQqEChUIFSoQKlQgVKhAqFDh7mum8rhcLjURcY0xWYaz1LpErA01juPa+Xx+HwRBNctya5Zal4u1oZ5Op4esy61Zal0+1ob6LMdya5ZalwgPU1CBUKECoUIFQoUKhAoVCBUqECpUIFSoQKhQgVChAqFCBevf9WeVc4qgCNMErVLKUPNOERRhmqBtShlqnimCIkwTtFEpQ33Gf2QpDx6moAKhQgVChQqEChUIFSoQKlQgVKhAqFCh1F/458F2QnYh1BewnZB9CPUFbCdkH0J9BdsJ2YOHKahAqFCBUKECoUIFQoUKhAoV+HrqDnirVTxCLRhvte6DUAvGW637INQ74a1WsQjVMgXs8FIRkR8Zx1p7f0yoFsl7f3u5XGpxHL9rt9vzSqVyTjs+7/2xMaYhIvUsY+XKh+SmUKMoctKedb/fOyIicRw7y+Wy+TfHaz33er1uO47THA6Hxvf972nGioisVitnPp8/DYfDr77v79OMPRwOb2az2VMYho/GmF3ac4uI0+12P3qe184w9uqH5Cc3/VAXVGXQLgAAAABJRU5ErkJggg==\"></img></td>\n",
       "      <td id=\"T_dbc77_row5_col5\" class=\"data row5 col5\" >0<br>(0.0%)</td>\n",
       "    </tr>\n",
       "    <tr>\n",
       "      <td id=\"T_dbc77_row6_col0\" class=\"data row6 col0\" >7</td>\n",
       "      <td id=\"T_dbc77_row6_col1\" class=\"data row6 col1\" ><strong>total.sulfur.dioxide</strong><br>[float64]</td>\n",
       "      <td id=\"T_dbc77_row6_col2\" class=\"data row6 col2\" >Mean (sd) : 46.5 (32.9)<br>min < med < max:<br>6.0 < 38.0 < 289.0<br>IQR (CV) : 40.0 (1.4)</td>\n",
       "      <td id=\"T_dbc77_row6_col3\" class=\"data row6 col3\" >144 distinct values</td>\n",
       "      <td id=\"T_dbc77_row6_col4\" class=\"data row6 col4\" ><img src = \"data:image/png;base64, iVBORw0KGgoAAAANSUhEUgAAAKoAAABGCAYAAABc8A97AAAAOXRFWHRTb2Z0d2FyZQBNYXRwbG90bGliIHZlcnNpb24zLjcuMSwgaHR0cHM6Ly9tYXRwbG90bGliLm9yZy/bCgiHAAAACXBIWXMAAA9hAAAPYQGoP6dpAAACIklEQVR4nO3cwU4iQRRG4VuipJFMdwgJ7HgEFyx5CB92tu55FkJCpAk9MhBSboaJyahA1bTWXznf2i41OQFa+17nvTcgdTff/QMAl7g99wXOuZ6ZdQPP33vvXwKvBf76NFTnXG84HD6WZTkIOXyz2Tw7534SK2Kde0XtlmU5mM1mL1VV7a45uK7rYj6fD1arVdfMCBVRzr71m5lVVbUbjUa/As7vBVwD/IObKUggVEggVEggVEggVEggVEggVEggVEggVEggVEggVEggVEggVEggVEggVEggVEggVEggVEggVEggVEi4aLgv1PF4vDOz0jkXegR7AWBmLYbaNM3d4XB4mEwmnU6nc9Wo9Ql7AXDSWqj7/f62KIr76XS6G4/Hz9dez14AvNXqW7+ZWb/fD90JYMZeAPzBzRQkECokECokECokECokECokECokECokECokECokECokECokECokECokECokECokECokECokECoktD4zFSNy3JpR64wkG2rsuDWj1nlJNtSYcWtGrfOTbKgnEePWjFpnhJspSCBUSCBUSCBUSCBUSCBUSEj+z1OhWCKclyxDZYlwfrIMlSXC+cky1BOWCOeDmylIyPoVNQaPGKaFUN/BI4bpIdR38Ihhegj1EzximA5CbQGfb/+/i0Kt67q49uDtdluYmTVNUyyXy/uvvP47v/disfgR8/l2vV5vnXNPZhb0jwphv733H/7Orzk8Ay+Dw1wEAAAAAElFTkSuQmCC\"></img></td>\n",
       "      <td id=\"T_dbc77_row6_col5\" class=\"data row6 col5\" >0<br>(0.0%)</td>\n",
       "    </tr>\n",
       "    <tr>\n",
       "      <td id=\"T_dbc77_row7_col0\" class=\"data row7 col0\" >8</td>\n",
       "      <td id=\"T_dbc77_row7_col1\" class=\"data row7 col1\" ><strong>density</strong><br>[float64]</td>\n",
       "      <td id=\"T_dbc77_row7_col2\" class=\"data row7 col2\" >Mean (sd) : 1.0 (0.0)<br>min < med < max:<br>1.0 < 1.0 < 1.0<br>IQR (CV) : 0.0 (528.1)</td>\n",
       "      <td id=\"T_dbc77_row7_col3\" class=\"data row7 col3\" >436 distinct values</td>\n",
       "      <td id=\"T_dbc77_row7_col4\" class=\"data row7 col4\" ><img src = \"data:image/png;base64, iVBORw0KGgoAAAANSUhEUgAAAKoAAABGCAYAAABc8A97AAAAOXRFWHRTb2Z0d2FyZQBNYXRwbG90bGliIHZlcnNpb24zLjcuMSwgaHR0cHM6Ly9tYXRwbG90bGliLm9yZy/bCgiHAAAACXBIWXMAAA9hAAAPYQGoP6dpAAACvklEQVR4nO3dvY7aQBRA4TsBNgYUG0QEHS1FpBSUNHmDPGzadFuAlBLxBjQIgfgRBIIxzguwZPHYYe5wvn60UxzBjvHMmDRNBXDdh0dPAHiP8qMn4CpjTFVEXjIOP6VpeshzPs+OUK8wxlRbrdb3MAybWcZvt9uVMeYHseaHUK97CcOwORgMDlEUHe8ZuNlsguFw2Fwuly8iQqg5IdQboig6ttvt3xmGVnOfzJNjMQUV+EQtQJIkFREJjTFZhrMQu4JQc7bf7ytxHH/tdrulUql01/+3IizE3kKoOTudTuUgCGr9fv/Y6XRW94xlIfY2Qi1IvV5nIZYjFlNQgVChAqFCBUKFCoQKFQgVKhAqVCBUqECoUIFQoQKhQgVChQqEChUIFSoQKlQgVKhAqFCBUKECoUIFQoUKhAoVCBUqECpUIFSo4O0BFJYH8YaXy6WS53xgx8tQbQ/ijeM4SJLky/F4fBWRLKedIGdehioWB/GKiEyn0+ZkMqmdz+dSEZPD/XwNVUSyH8S7Wq04/8kxLKagAqFCBUKFCoQKFQgVKni96tfI8qIKEU8vqyBUh9heVCHi72UVhOoQm4sqRPy+rIJQHWRxUYWIp5dVsJiCCoQKFQgVKhAqVCBUqECoUIFQoQKhQgVChQpO/zJlsZOUXaSecTZUm52k7CL1j7OhisVO0mfeRWr5mqCzrwi6HKqIZNtJ+qy7SG1fE3T5FUHnQ8X72bwm6PorgoTqIYvXBJ39JuLxFFQgVKhQ6Fc/J+ohL4WFyol6+ri8A7bIT1RO1FMkjx2w6/V6Z4z5KSJZxt+M/J+h2v6MGUXRihP13Ge7A3Y2m30ajUbfut3u5yKe4d4MNY+fMReLxa97x4qI7Ha7QERkv98H8/m89r/GPvJvuzDvrOI4LgdBUOv1eqbRaPy5Z+zhcPg4Ho9vPsP9CzJQeWjQEf8IAAAAAElFTkSuQmCC\"></img></td>\n",
       "      <td id=\"T_dbc77_row7_col5\" class=\"data row7 col5\" >0<br>(0.0%)</td>\n",
       "    </tr>\n",
       "    <tr>\n",
       "      <td id=\"T_dbc77_row8_col0\" class=\"data row8 col0\" >9</td>\n",
       "      <td id=\"T_dbc77_row8_col1\" class=\"data row8 col1\" ><strong>pH</strong><br>[float64]</td>\n",
       "      <td id=\"T_dbc77_row8_col2\" class=\"data row8 col2\" >Mean (sd) : 3.3 (0.2)<br>min < med < max:<br>2.7 < 3.3 < 4.0<br>IQR (CV) : 0.2 (21.4)</td>\n",
       "      <td id=\"T_dbc77_row8_col3\" class=\"data row8 col3\" >89 distinct values</td>\n",
       "      <td id=\"T_dbc77_row8_col4\" class=\"data row8 col4\" ><img src = \"data:image/png;base64, iVBORw0KGgoAAAANSUhEUgAAAKoAAABGCAYAAABc8A97AAAAOXRFWHRTb2Z0d2FyZQBNYXRwbG90bGliIHZlcnNpb24zLjcuMSwgaHR0cHM6Ly9tYXRwbG90bGliLm9yZy/bCgiHAAAACXBIWXMAAA9hAAAPYQGoP6dpAAACa0lEQVR4nO3dPY7aUBSG4XPDzxiQbCEk6NhApBSULCKLzRJSsAJ2QIeEEAhnHIzttCmYJPia2N/lffozuHgHyZq557qqqgzouk9tPwDwL/ptP0BXOedGZjasOX6tquq9yed5dYR6h3NuNJvNvsZxPK0zfz6fj865b8TaHEK9bxjH8XS9Xr8nSZI9Mng6naLNZjM9HA5DMyPUhhDqHyRJks3n8x81RkeNP8yL42UKEggVEggVEggVEggVEggVEggVEggVEggVEggVEggVEggVEggVEggVEggVEggVEggVEggVEggVEggVEoI93Od5Lj8uy3LQ5PPAT5Ch+p7Lz/M8Koric5Zl383s4VOoRVEMzCx2ztX5eJZX3BFkqOZxLt/MbLfbTbfb7fh2u/UenU3TdJDn+Zflctnr9XoPfzbLK+4LNVQzq38u/3g81j6Xf71e+1EUjVerVbZYLI6PzLK84mNBh9qmyWTC8ooG8dYPCYQKCYQKCYQKCYQKCYQKCYQKCYQKCYQKCYQKCYQKCYQKCYQKCYQKCYQKCYQKCYQKCYQKCYQKCYQKCYQKCYQKCZ0+Lu2xlkd2JY/nlhWzQDetdDZUn7U8vit52uK7ZcUs3E0rnQ3VPNby+KzkaZPPlhWzsDetdDlUM6u3lsdnJU8XeGxZMQt00wovU5BAqJBAqJBAqJBAqJBAqJBAqJBAqJBAqJDw1L9McdfT/xfq1UFPC7Xtu55eUchXBz3zG7W1u55eVchXB/01VOdcZGZvNX52XJal9y9CmqbRfr8fPzJzuVyiurO+823N/j5fV1EUffP7X1gfP6uq+vAL7RdycScezUwR7AAAAABJRU5ErkJggg==\"></img></td>\n",
       "      <td id=\"T_dbc77_row8_col5\" class=\"data row8 col5\" >0<br>(0.0%)</td>\n",
       "    </tr>\n",
       "    <tr>\n",
       "      <td id=\"T_dbc77_row9_col0\" class=\"data row9 col0\" >10</td>\n",
       "      <td id=\"T_dbc77_row9_col1\" class=\"data row9 col1\" ><strong>sulphates</strong><br>[float64]</td>\n",
       "      <td id=\"T_dbc77_row9_col2\" class=\"data row9 col2\" >Mean (sd) : 0.7 (0.2)<br>min < med < max:<br>0.3 < 0.6 < 2.0<br>IQR (CV) : 0.2 (3.9)</td>\n",
       "      <td id=\"T_dbc77_row9_col3\" class=\"data row9 col3\" >96 distinct values</td>\n",
       "      <td id=\"T_dbc77_row9_col4\" class=\"data row9 col4\" ><img src = \"data:image/png;base64, iVBORw0KGgoAAAANSUhEUgAAAKoAAABGCAYAAABc8A97AAAAOXRFWHRTb2Z0d2FyZQBNYXRwbG90bGliIHZlcnNpb24zLjcuMSwgaHR0cHM6Ly9tYXRwbG90bGliLm9yZy/bCgiHAAAACXBIWXMAAA9hAAAPYQGoP6dpAAACe0lEQVR4nO3cu47aQBiG4X/CggysxiAi6NxSREpBSZM72ItNmy4FPRJ3QIfEwQgCy8mpNk02WWwvwZ/zPv0MRnplwOIflySJAUX34d4XAFzj4ZabO+fqZlbLscUhSZLde10PdN0sVOdcvdPpPHnv21n3WK/XS+fcV2LFLe+oNe99ezgc7sIw3KddHMdxMBqN2vP5vGZmhPqfu+lHv5lZGIb7brf7I+Py+rteDGTxYwoSCBUSCBUSCBUSCBUSCBUSCBUSCBUSCBUSCBUSCBUSCBUSCBUSCBUSCBUSCBUSCBUSCBUSCBUSCBUSCBUSCBUSCBUSCBUSCBUSCBUSCBUSCBUSCBUSCBUSCBUSbn4+ah7n87lqZt45l2U5x6qXSGFD3W631ePx+DmKokqlUkl9YjXHqpdLYUM9HA4PQRA0BoPBvtfrLdOs5Vj18ilsqC+azWbWo9U5Vr1E+DEFCYQKCYQKCYQKCYQKCYQKCYQKCYQKCYQKCYQKCYQKCYQKCYQKCYQKCYQKCYQKCW/+cdo5VzezWoa9/eVyqWZYB/zmr6E65+qdTufJe99Ou/HxeAzO5/On/X7/3cyy/EMf+OWtO2rNe98eDoe7MAxTDdhNp9P2ZDJpnE6nSo7rA8zsypmpMAxTzy0tl8u7zizlHLU2Y9y6UAo/3JdF3lFrM8ati6aUoeYZtTZj3LqIShnqixyj1maMWxcKz1EhgVAhgVAhodTfUfPgJMFiIdRX5H28tVqtNs65b2aW5dEYkb/iqlDjOA7SbrzZbAIzs+12G8xms8a/XJ/3tReLxWMQBI1+v+9ardZzmrWr1epxPB5/iaLo4x0iV/acJMkf3/NPZNjdxcjcm1IAAAAASUVORK5CYII=\"></img></td>\n",
       "      <td id=\"T_dbc77_row9_col5\" class=\"data row9 col5\" >0<br>(0.0%)</td>\n",
       "    </tr>\n",
       "    <tr>\n",
       "      <td id=\"T_dbc77_row10_col0\" class=\"data row10 col0\" >11</td>\n",
       "      <td id=\"T_dbc77_row10_col1\" class=\"data row10 col1\" ><strong>alcohol</strong><br>[float64]</td>\n",
       "      <td id=\"T_dbc77_row10_col2\" class=\"data row10 col2\" >Mean (sd) : 10.4 (1.1)<br>min < med < max:<br>8.4 < 10.2 < 14.9<br>IQR (CV) : 1.6 (9.8)</td>\n",
       "      <td id=\"T_dbc77_row10_col3\" class=\"data row10 col3\" >65 distinct values</td>\n",
       "      <td id=\"T_dbc77_row10_col4\" class=\"data row10 col4\" ><img src = \"data:image/png;base64, iVBORw0KGgoAAAANSUhEUgAAAKoAAABGCAYAAABc8A97AAAAOXRFWHRTb2Z0d2FyZQBNYXRwbG90bGliIHZlcnNpb24zLjcuMSwgaHR0cHM6Ly9tYXRwbG90bGliLm9yZy/bCgiHAAAACXBIWXMAAA9hAAAPYQGoP6dpAAACoElEQVR4nO3cu47aQBSA4XPCggxIYyEi6HiBSCkoeYh92LTpshJPwBvQIVlchGMCGKfaKssuviVzJv/Xj3HxCxjPeLQoCgF89+lf3wDwiKc2L66qfRHp1bjEuSiKrKn7gV2thaqq/fF4/OycG1W9xuFw2KrqN2JFm9+oPefcaLFYZHEcn8oO3u/30XK5HCVJ0hMRQv3PtfrTLyISx/FpMpn8rDi83+jNwCwmUzCBUGECocIEQoUJhAoTCBUmECpMIFSYQKgwgVBhAqHCBEKFCYQKEwgVJhAqTCBUmECoMIFQYQKhwgRChQmEChNafwu1jjzPuyLiVLXKcA6vCIi3oaZp2r1cLl9ns1mn0+mUPheAwyvC4m2o5/P5KYqiwXw+P02n022ZsRxeER5vQ301HA6rHmDB4RUBYTIFEwgVJhAqTCBUmECoMMH7WX9VNRcLRFgw8EqQodZdLBBhwcA3QYZaZ7FAhAUDHwUZ6qsaiwWS57kT9hl4I+hQq2KfgX8I9Q3sM/APob6DfQb+4DkqTCBUmECoMIFQYQKhwgRChQmEChMIFSYQKkwgVJhAqDCBtf4WcBRR8wi1YWwRbAehNowtgu0g1JawRbBZhOoZ3p59G6F6hLdn7yNUj/D27H2E6qE6b89KoP9xeeAPEwgVJnz406+qfRHpVbi2u91u3QrjgD+8G6qq9sfj8bNzblT2wpfLJcrz/MvpdPohIlX/bwEi8vE3as85N1osFlkcx6Uel6zX69FqtRpcr9dOjftDSaHuM3ho1h/HcelZ6Ha7DXL26bOQ9xnweCogdfcZvLy8TJIk+ayqh6q30FbkD4W63++jshc+Ho+RiEiaptFmsxn8zfFWP7up+64iy7Laq2K73e6oqt9FpMr4X0VR3B33G0hagyI1irAsAAAAAElFTkSuQmCC\"></img></td>\n",
       "      <td id=\"T_dbc77_row10_col5\" class=\"data row10 col5\" >0<br>(0.0%)</td>\n",
       "    </tr>\n",
       "    <tr>\n",
       "      <td id=\"T_dbc77_row11_col0\" class=\"data row11 col0\" >12</td>\n",
       "      <td id=\"T_dbc77_row11_col1\" class=\"data row11 col1\" ><strong>quality</strong><br>[object]</td>\n",
       "      <td id=\"T_dbc77_row11_col2\" class=\"data row11 col2\" >1. bon<br>2. mauvais</td>\n",
       "      <td id=\"T_dbc77_row11_col3\" class=\"data row11 col3\" >855 (53.5%)<br>744 (46.5%)</td>\n",
       "      <td id=\"T_dbc77_row11_col4\" class=\"data row11 col4\" ><img src = \"data:image/png;base64, iVBORw0KGgoAAAANSUhEUgAAAJsAAAAuCAYAAAA/ZmtKAAAAOXRFWHRTb2Z0d2FyZQBNYXRwbG90bGliIHZlcnNpb24zLjcuMSwgaHR0cHM6Ly9tYXRwbG90bGliLm9yZy/bCgiHAAAACXBIWXMAAA9hAAAPYQGoP6dpAAABO0lEQVR4nO3bQWrDMBRF0a8iQjORMAYvxovoYrsI7cYYa9CETNRBp8EaVDw5zj0r+JiLIcHPlVIMUHBmdjWzS+9DTuJRSrn1PuKo/DiOXyGEofchZ5BzXp1z3wT3nA8hDPM832KM997HvLJt2z5TSsOyLBczI7YnvJlZjPE+TdNP72NO4Nr7gCP76H0A3gexQYbYIENskCE2yBAbZIgNMsQGGWKDDLFBhtggQ2yQITbIEBtkiA0y3uzvw7/eh7w6nmGdzzmvKaXB+PDv33LOq5k9et9xVAxe2mLwssMx5YMKb7Y63laNMOWrYJ7XDlO+Hczz2mLKV8ev9Eb4UxcyxAYZYoMMsUGG2CBDbJAhNsgQG2SIDTLEBhligwyxQYbYIENskCE2yDDl28FzaYspXwXzvHYYvNQxeGnkFwpbat8v4z0mAAAAAElFTkSuQmCC\"></img></td>\n",
       "      <td id=\"T_dbc77_row11_col5\" class=\"data row11 col5\" >0<br>(0.0%)</td>\n",
       "    </tr>\n",
       "  </tbody>\n",
       "</table>\n"
      ],
      "text/plain": [
       "<pandas.io.formats.style.Styler at 0x220bfd37e10>"
      ]
     },
     "execution_count": 3,
     "metadata": {},
     "output_type": "execute_result"
    }
   ],
   "source": [
    "dfSummary(df)"
   ]
  },
  {
   "cell_type": "markdown",
   "metadata": {},
   "source": [
    "La variable cible identifié ici est **'quality'**. Ainsi, notre tâche consistera à déterminer l'algorithme qui prédira au mieux la classe des individus. Après analyse de nos données, nous constatons que nos données sont assez équilibrées(*53.5% pour 'bon' et 46.5% pour mauvais*) alors, un rééquilibrage des données ne sera pas nécessaire. On aura donc qu'à binariser notre variable cible."
   ]
  },
  {
   "cell_type": "code",
   "execution_count": 4,
   "metadata": {},
   "outputs": [
    {
     "data": {
      "text/html": [
       "<div>\n",
       "<style scoped>\n",
       "    .dataframe tbody tr th:only-of-type {\n",
       "        vertical-align: middle;\n",
       "    }\n",
       "\n",
       "    .dataframe tbody tr th {\n",
       "        vertical-align: top;\n",
       "    }\n",
       "\n",
       "    .dataframe thead th {\n",
       "        text-align: right;\n",
       "    }\n",
       "</style>\n",
       "<table border=\"1\" class=\"dataframe\">\n",
       "  <thead>\n",
       "    <tr style=\"text-align: right;\">\n",
       "      <th></th>\n",
       "      <th>fixed.acidity</th>\n",
       "      <th>volatile.acidity</th>\n",
       "      <th>citric.acid</th>\n",
       "      <th>residual.sugar</th>\n",
       "      <th>chlorides</th>\n",
       "      <th>free.sulfur.dioxide</th>\n",
       "      <th>total.sulfur.dioxide</th>\n",
       "      <th>density</th>\n",
       "      <th>pH</th>\n",
       "      <th>sulphates</th>\n",
       "      <th>alcohol</th>\n",
       "      <th>quality</th>\n",
       "    </tr>\n",
       "  </thead>\n",
       "  <tbody>\n",
       "    <tr>\n",
       "      <th>0</th>\n",
       "      <td>7.4</td>\n",
       "      <td>0.70</td>\n",
       "      <td>0.00</td>\n",
       "      <td>1.9</td>\n",
       "      <td>0.076</td>\n",
       "      <td>11.0</td>\n",
       "      <td>34.0</td>\n",
       "      <td>0.9978</td>\n",
       "      <td>3.51</td>\n",
       "      <td>0.56</td>\n",
       "      <td>9.4</td>\n",
       "      <td>0</td>\n",
       "    </tr>\n",
       "    <tr>\n",
       "      <th>1</th>\n",
       "      <td>7.8</td>\n",
       "      <td>0.88</td>\n",
       "      <td>0.00</td>\n",
       "      <td>2.6</td>\n",
       "      <td>0.098</td>\n",
       "      <td>25.0</td>\n",
       "      <td>67.0</td>\n",
       "      <td>0.9968</td>\n",
       "      <td>3.20</td>\n",
       "      <td>0.68</td>\n",
       "      <td>9.8</td>\n",
       "      <td>0</td>\n",
       "    </tr>\n",
       "    <tr>\n",
       "      <th>2</th>\n",
       "      <td>7.8</td>\n",
       "      <td>0.76</td>\n",
       "      <td>0.04</td>\n",
       "      <td>2.3</td>\n",
       "      <td>0.092</td>\n",
       "      <td>15.0</td>\n",
       "      <td>54.0</td>\n",
       "      <td>0.9970</td>\n",
       "      <td>3.26</td>\n",
       "      <td>0.65</td>\n",
       "      <td>9.8</td>\n",
       "      <td>0</td>\n",
       "    </tr>\n",
       "    <tr>\n",
       "      <th>3</th>\n",
       "      <td>11.2</td>\n",
       "      <td>0.28</td>\n",
       "      <td>0.56</td>\n",
       "      <td>1.9</td>\n",
       "      <td>0.075</td>\n",
       "      <td>17.0</td>\n",
       "      <td>60.0</td>\n",
       "      <td>0.9980</td>\n",
       "      <td>3.16</td>\n",
       "      <td>0.58</td>\n",
       "      <td>9.8</td>\n",
       "      <td>1</td>\n",
       "    </tr>\n",
       "    <tr>\n",
       "      <th>4</th>\n",
       "      <td>7.4</td>\n",
       "      <td>0.70</td>\n",
       "      <td>0.00</td>\n",
       "      <td>1.9</td>\n",
       "      <td>0.076</td>\n",
       "      <td>11.0</td>\n",
       "      <td>34.0</td>\n",
       "      <td>0.9978</td>\n",
       "      <td>3.51</td>\n",
       "      <td>0.56</td>\n",
       "      <td>9.4</td>\n",
       "      <td>0</td>\n",
       "    </tr>\n",
       "  </tbody>\n",
       "</table>\n",
       "</div>"
      ],
      "text/plain": [
       "   fixed.acidity  volatile.acidity  citric.acid  residual.sugar  chlorides  \\\n",
       "0            7.4              0.70         0.00             1.9      0.076   \n",
       "1            7.8              0.88         0.00             2.6      0.098   \n",
       "2            7.8              0.76         0.04             2.3      0.092   \n",
       "3           11.2              0.28         0.56             1.9      0.075   \n",
       "4            7.4              0.70         0.00             1.9      0.076   \n",
       "\n",
       "   free.sulfur.dioxide  total.sulfur.dioxide  density    pH  sulphates  \\\n",
       "0                 11.0                  34.0   0.9978  3.51       0.56   \n",
       "1                 25.0                  67.0   0.9968  3.20       0.68   \n",
       "2                 15.0                  54.0   0.9970  3.26       0.65   \n",
       "3                 17.0                  60.0   0.9980  3.16       0.58   \n",
       "4                 11.0                  34.0   0.9978  3.51       0.56   \n",
       "\n",
       "   alcohol  quality  \n",
       "0      9.4        0  \n",
       "1      9.8        0  \n",
       "2      9.8        0  \n",
       "3      9.8        1  \n",
       "4      9.4        0  "
      ]
     },
     "execution_count": 4,
     "metadata": {},
     "output_type": "execute_result"
    }
   ],
   "source": [
    "df[\"quality\"] = (df[\"quality\"] == \"bon\").astype(int)\n",
    "df.head()"
   ]
  },
  {
   "cell_type": "markdown",
   "metadata": {},
   "source": [
    "Notre variable cible étant transtypée sous forme binaire, nous allons maintenant séparer nos variables explicatives de notre variable cible. Aussi, nous allons mettre de variables à échelle en nous servant de la fonction `StandardScaler()`"
   ]
  },
  {
   "cell_type": "code",
   "execution_count": 5,
   "metadata": {},
   "outputs": [],
   "source": [
    "Y = df[\"quality\"].values\n",
    "X = df.drop([\"quality\"], axis=1).values\n",
    "scaler = StandardScaler()\n",
    "X_scaled = scaler.fit_transform(X)"
   ]
  },
  {
   "cell_type": "markdown",
   "metadata": {},
   "source": [
    "**DEFINITION DE NOS MODELES DE CLASSIFICATION ET DE NOS GRILLES DE PARAMETRE**"
   ]
  },
  {
   "cell_type": "code",
   "execution_count": 6,
   "metadata": {},
   "outputs": [],
   "source": [
    "models_classification = [\n",
    "    (\"Regression Logistique\", LogisticRegression(max_iter=1000), {'C':[0.001, 0.01, 0.1, 1, 10, 100]}),\n",
    "    (\"Arbre de décision\", DecisionTreeClassifier(), {'max_depth': [1, 5, 10, 15, 20]}),\n",
    "    (\"Bagging KPPV\", BaggingClassifier(estimator=KNeighborsClassifier(n_neighbors=10)), {'n_estimators': [50, 100, 150, 200, 300]}),\n",
    "    (\"Random Forest\", RandomForestClassifier(), {'n_estimators': [10, 50, 100, 150,200], 'max_depth':[2,3,4,6,8]}),\n",
    "    (\"XG Boost\", XGBClassifier(), {'n_estimators': [50, 100, 150, 200, 300], 'max_depth': [3, 4, 5, 6, 7]}),\n",
    "    (\"ADA Boost\", AdaBoostClassifier(), {'n_estimators': [50, 100, 150, 200, 300], 'learning_rate': [0.01, 0.1, 0.5, 1.0]}),\n",
    "    (\"Gradient Boosting\", GradientBoostingClassifier(), {'n_estimators': [50, 100, 150, 200, 300], 'max_depth': [3, 4, 5, 6, 7],}),\n",
    "    (\"KPPV\", KNeighborsClassifier(), {'n_neighbors': [1, 3, 5, 7, 10]})\n",
    "]"
   ]
  },
  {
   "cell_type": "markdown",
   "id": "74b38028",
   "metadata": {},
   "source": [
    "**DEFINITION DE LA FONCTION D'EVALUATION DES DIFFERENTS MODELES**"
   ]
  },
  {
   "cell_type": "code",
   "execution_count": 7,
   "id": "a16d1f40",
   "metadata": {},
   "outputs": [],
   "source": [
    "def evaluation_model(X, Y, model, param_grid, num_folds=5):\n",
    "    # Utilisation de KFold pour la validation croisée\n",
    "    kfold = KFold(n_splits=num_folds, shuffle=True, random_state=1234)\n",
    "\n",
    "    # Utilisation de GridSearchCV pour rechercher les meilleurs parametres avec la validation croisée (Première validation croisée)\n",
    "    grid_search = GridSearchCV(model, param_grid=param_grid, scoring='accuracy', cv=kfold)\n",
    "    grid_search.fit(X, Y)\n",
    "\n",
    "    best_model = grid_search.best_estimator_ # Meilleurs parametres\n",
    "\n",
    "    # Calcul de l'Accuracy moyen (Deuxième validation croisée)\n",
    "    accuracy_scores = cross_val_score(best_model, X, Y, scoring='accuracy', cv=kfold)\n",
    "    average_accuracy = accuracy_scores.mean()\n",
    "\n",
    "    return average_accuracy, best_model"
   ]
  },
  {
   "cell_type": "markdown",
   "id": "868ff25b",
   "metadata": {},
   "source": [
    "**APPLICATION DE NOTRE FONCTION SUR NOS DONNEES**"
   ]
  },
  {
   "cell_type": "code",
   "execution_count": 8,
   "id": "759ef60a",
   "metadata": {},
   "outputs": [
    {
     "name": "stdout",
     "output_type": "stream",
     "text": [
      "Modele: Regression Logistique\n",
      "Meilleurs Hyperparametres: {'C': 0.01}\n",
      "Accuracy: 0.7448452194357367\n",
      "\n",
      "\n",
      "Modele: Arbre de décision\n",
      "Meilleurs Hyperparametres: {'max_depth': 15}\n",
      "Accuracy: 0.7373315047021944\n",
      "\n",
      "\n",
      "Modele: Bagging KPPV\n",
      "Meilleurs Hyperparametres: {'n_estimators': 300}\n",
      "Accuracy: 0.7310873824451412\n",
      "\n",
      "\n",
      "Modele: Random Forest\n",
      "Meilleurs Hyperparametres: {'n_estimators': 150, 'max_depth': 8}\n",
      "Accuracy: 0.7948667711598747\n",
      "\n",
      "\n",
      "Modele: XG Boost\n",
      "Meilleurs Hyperparametres: {'n_estimators': 200, 'max_depth': 7}\n",
      "Accuracy: 0.8042515673981191\n",
      "\n",
      "\n",
      "Modele: ADA Boost\n",
      "Meilleurs Hyperparametres: {'n_estimators': 200, 'learning_rate': 0.1}\n",
      "Accuracy: 0.7629878526645768\n",
      "\n",
      "\n",
      "Modele: Gradient Boosting\n",
      "Meilleurs Hyperparametres: {'n_estimators': 50, 'max_depth': 7}\n",
      "Accuracy: 0.804233934169279\n",
      "\n",
      "\n",
      "Modele: KPPV\n",
      "Meilleurs Hyperparametres: {'n_neighbors': 1}\n",
      "Accuracy: 0.7479839341692791\n",
      "\n",
      "\n"
     ]
    }
   ],
   "source": [
    "for name, model, param_grid in models_classification:\n",
    "    acc, best_model = evaluation_model(X_scaled, Y, model, param_grid)\n",
    "    \n",
    "    print(f\"Modele: {name}\")\n",
    "    \n",
    "    # Récupérer les hyperparamètres spécifiés dans models_classification\n",
    "    params_specifie = {param: best_model.get_params()[param] for param in param_grid.keys()}\n",
    "    \n",
    "    print(f\"Meilleurs Hyperparametres: {params_specifie}\")\n",
    "    print(f\"Accuracy: {acc}\")\n",
    "    print(\"\\n\")\n"
   ]
  },
  {
   "cell_type": "markdown",
   "metadata": {},
   "source": [
    "Ici, nous avons pour chaque modèle les valeurs optimales des paramètres pour les grilles définies, ainsi que leur précision. On remarque ici que le **XG Boost** et le **Gradient Boosting** sont plus précis avec une précision sensiblement égale à **80%**. Ces derniers sont suivis par le **Random Forest** avec une précision d'environ **79.92%**."
   ]
  },
  {
   "cell_type": "markdown",
   "id": "4615590b",
   "metadata": {},
   "source": [
    "**FEATURE ENGINEERING**"
   ]
  },
  {
   "cell_type": "code",
   "execution_count": 9,
   "id": "b5952f32",
   "metadata": {},
   "outputs": [],
   "source": [
    "X2 = np.concatenate((X_scaled,np.square(X_scaled)), axis=1)\n",
    "X3 = np.concatenate((X2,np.power(X_scaled,3)), axis=1)"
   ]
  },
  {
   "cell_type": "markdown",
   "id": "174381f1",
   "metadata": {},
   "source": [
    "- *Comparaison des modèles sur la matrice X2:*"
   ]
  },
  {
   "cell_type": "code",
   "execution_count": 10,
   "id": "ddc7c150",
   "metadata": {},
   "outputs": [
    {
     "name": "stdout",
     "output_type": "stream",
     "text": [
      "Modele: Regression Logistique\n",
      "Meilleurs Hyperparametres: {'C': 0.1}\n",
      "Accuracy: 0.7485854231974921\n",
      "\n",
      "\n",
      "Modele: Arbre de décision\n",
      "Meilleurs Hyperparametres: {'max_depth': 20}\n",
      "Accuracy: 0.7542065047021944\n",
      "\n",
      "\n",
      "Modele: Bagging KPPV\n",
      "Meilleurs Hyperparametres: {'n_estimators': 100}\n",
      "Accuracy: 0.711065830721003\n",
      "\n",
      "\n",
      "Modele: Random Forest\n",
      "Meilleurs Hyperparametres: {'n_estimators': 150, 'max_depth': 8}\n",
      "Accuracy: 0.8023922413793103\n",
      "\n",
      "\n",
      "Modele: XG Boost\n",
      "Meilleurs Hyperparametres: {'n_estimators': 50, 'max_depth': 6}\n",
      "Accuracy: 0.81298197492163\n",
      "\n",
      "\n",
      "Modele: ADA Boost\n",
      "Meilleurs Hyperparametres: {'n_estimators': 300, 'learning_rate': 0.1}\n",
      "Accuracy: 0.7661030564263323\n",
      "\n",
      "\n",
      "Modele: Gradient Boosting\n",
      "Meilleurs Hyperparametres: {'n_estimators': 200, 'max_depth': 4}\n",
      "Accuracy: 0.7967417711598745\n",
      "\n",
      "\n",
      "Modele: KPPV\n",
      "Meilleurs Hyperparametres: {'n_neighbors': 1}\n",
      "Accuracy: 0.7435834639498433\n",
      "\n",
      "\n"
     ]
    }
   ],
   "source": [
    "for name, model, param_grid in models_classification:\n",
    "    acc, best_model = evaluation_model(X2, Y, model, param_grid)\n",
    "    \n",
    "    print(f\"Modele: {name}\")\n",
    "    \n",
    "    params_specifie = {param: best_model.get_params()[param] for param in param_grid.keys()}\n",
    "    \n",
    "    print(f\"Meilleurs Hyperparametres: {params_specifie}\")\n",
    "    print(f\"Accuracy: {acc}\")\n",
    "    print(\"\\n\")"
   ]
  },
  {
   "cell_type": "markdown",
   "metadata": {},
   "source": [
    "Après avoir ajouté nos variables élevées au carrée à nos variables initiales, nous avons pour chaque modèle les valeurs optimales des paramètres pour les grilles définies, ainsi que leur précision. On remarque ici que le **XG Boost** et le **Gradient Boosting** sont toujours plus précis, cette fois avec une précision sensiblement égale à **81%**(**Hausse de 1%**). Ces derniers sont suivis par le **Random Forest** avec une précision d'environ **79.54%**."
   ]
  },
  {
   "cell_type": "markdown",
   "id": "16d6d274",
   "metadata": {},
   "source": [
    "- *Comparaison des modèles sur la matrice X3:*"
   ]
  },
  {
   "cell_type": "code",
   "execution_count": 11,
   "id": "a1621b04",
   "metadata": {},
   "outputs": [
    {
     "name": "stdout",
     "output_type": "stream",
     "text": [
      "Modele: Regression Logistique\n",
      "Meilleurs Hyperparametres: {'C': 0.1}\n",
      "Accuracy: 0.749212382445141\n",
      "\n",
      "\n",
      "Modele: Arbre de décision\n",
      "Meilleurs Hyperparametres: {'max_depth': 10}\n",
      "Accuracy: 0.7542025862068965\n",
      "\n",
      "\n",
      "Modele: Bagging KPPV\n",
      "Meilleurs Hyperparametres: {'n_estimators': 300}\n",
      "Accuracy: 0.7073060344827586\n",
      "\n",
      "\n",
      "Modele: Random Forest\n",
      "Meilleurs Hyperparametres: {'n_estimators': 100, 'max_depth': 8}\n",
      "Accuracy: 0.7948765673981191\n",
      "\n",
      "\n",
      "Modele: XG Boost\n",
      "Meilleurs Hyperparametres: {'n_estimators': 50, 'max_depth': 6}\n",
      "Accuracy: 0.81298197492163\n",
      "\n",
      "\n",
      "Modele: ADA Boost\n",
      "Meilleurs Hyperparametres: {'n_estimators': 300, 'learning_rate': 0.1}\n",
      "Accuracy: 0.7661030564263323\n",
      "\n",
      "\n",
      "Modele: Gradient Boosting\n",
      "Meilleurs Hyperparametres: {'n_estimators': 150, 'max_depth': 5}\n",
      "Accuracy: 0.8048608934169279\n",
      "\n",
      "\n",
      "Modele: KPPV\n",
      "Meilleurs Hyperparametres: {'n_neighbors': 1}\n",
      "Accuracy: 0.7304565047021944\n",
      "\n",
      "\n"
     ]
    }
   ],
   "source": [
    "for name, model, param_grid in models_classification:\n",
    "    acc, best_model = evaluation_model(X3, Y, model, param_grid)\n",
    "    \n",
    "    print(f\"Modele: {name}\")\n",
    "    \n",
    "    params_specifie = {param: best_model.get_params()[param] for param in param_grid.keys()}\n",
    "    \n",
    "    print(f\"Meilleurs Hyperparametres: {params_specifie}\")\n",
    "    print(f\"Accuracy: {acc}\")\n",
    "    print(\"\\n\")"
   ]
  },
  {
   "cell_type": "markdown",
   "id": "87c5d656",
   "metadata": {},
   "source": [
    "Après l'ajout de nos variables élevées au cube à notre jeu de donné `X2`, nous avons pour chaque modèle les valeurs optimales des paramètres pour les grilles définies, ainsi que leur précision. On remarque ici que le **XG Boost** et le **Gradient Boosting** sont toujours les plus précis(**81%** pour le *XG Boost* et **80%** pour le *Gradient Boosting*). Ces derniers sont suivis par le **Random Forest** avec une précision d'environ **79.79%**."
   ]
  }
 ],
 "metadata": {
  "kernelspec": {
   "display_name": "Python 3 (ipykernel)",
   "language": "python",
   "name": "python3"
  },
  "language_info": {
   "codemirror_mode": {
    "name": "ipython",
    "version": 3
   },
   "file_extension": ".py",
   "mimetype": "text/x-python",
   "name": "python",
   "nbconvert_exporter": "python",
   "pygments_lexer": "ipython3",
   "version": "3.11.4"
  }
 },
 "nbformat": 4,
 "nbformat_minor": 5
}
